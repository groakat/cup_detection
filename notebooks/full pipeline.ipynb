{
 "cells": [
  {
   "cell_type": "markdown",
   "metadata": {},
   "source": [
    "Import `cup_detection` modules"
   ]
  },
  {
   "cell_type": "code",
   "execution_count": 1,
   "metadata": {
    "collapsed": true
   },
   "outputs": [],
   "source": [
    "from cup_detection.ml import training as T\n",
    "from cup_detection.ml import cardboard as MLCB\n",
    "from cup_detection.ml import cup as MLC\n",
    "from cup_detection.eye_tracker import render_distances as RD\n",
    "\n",
    "import time"
   ]
  },
  {
   "cell_type": "markdown",
   "metadata": {},
   "source": [
    "## Load pretrained classifiers. \n",
    "\n",
    "This function returns a dictionary with the keys `card-board` for the cardboard classifier and `cups` for the cups detection classifier."
   ]
  },
  {
   "cell_type": "code",
   "execution_count": 2,
   "metadata": {
    "collapsed": true
   },
   "outputs": [],
   "source": [
    "t1 = time.time()\n",
    "clfrs = T.load_all_classifiers(\"/Volumes/Seagate Backup Plus Drive/datasets/cups/script_output/saved_classifiers\")"
   ]
  },
  {
   "cell_type": "markdown",
   "metadata": {},
   "source": [
    "Set filename of input video"
   ]
  },
  {
   "cell_type": "code",
   "execution_count": 3,
   "metadata": {
    "collapsed": true
   },
   "outputs": [],
   "source": [
    "# video_filename = \"/Volumes/Seagate Backup Plus Drive/datasets/cups/vt_encoded/CORIA/Scan Path_table (17)_table-23-recording/Scan Path_table (17)_table-23-recording_full.mp4\"\n",
    "video_filename = \"/Volumes/Seagate Backup Plus Drive/datasets/cups/raw/CORIA/Scan Path_table (17)_table-23-recording.avi\""
   ]
  },
  {
   "cell_type": "markdown",
   "metadata": {},
   "source": [
    "## Classify each frame of the video as cardboard or not.\n",
    "\n",
    "The result is a dictionary with the keys:\n",
    "\n",
    "* `raw`: with the frame-wise classification results (boolean `np.array` with `1` for frames with cardboard and `0` for frames without)\n",
    "* `smooth`: with the frame-wise classification results after applying the smoothing function which removes spurious noise in the classification result in `raw`"
   ]
  },
  {
   "cell_type": "code",
   "execution_count": 4,
   "metadata": {
    "collapsed": false
   },
   "outputs": [],
   "source": [
    "t2 = time.time()\n",
    "card_board_frames = MLCB.get_card_board_frames_from_video(video_filename, clfrs['card-board'])"
   ]
  },
  {
   "cell_type": "markdown",
   "metadata": {},
   "source": [
    "## Locate the blue cup in frames without cardboard\n",
    "This function returns a pandas dataframe with the columns\n",
    "\n",
    "* `Frame`: framenumber of event\n",
    "* `cup x`: x coordinate\n",
    "* `cup y`: y coordinate\n",
    "\n",
    "with the argument `verbose=True` the function plots the current framenumber after each 100 frames the function iterated through"
   ]
  },
  {
   "cell_type": "code",
   "execution_count": 5,
   "metadata": {
    "collapsed": false
   },
   "outputs": [
    {
     "name": "stdout",
     "output_type": "stream",
     "text": [
      "0\n",
      "100\n",
      "200\n",
      "300\n",
      "400\n",
      "500\n",
      "600\n",
      "700\n",
      "800\n",
      "900\n",
      "1000\n",
      "1100\n",
      "1200\n",
      "1300\n",
      "1400\n",
      "1500\n",
      "1600\n",
      "1700\n",
      "1800\n",
      "1900\n",
      "2000\n",
      "2100\n",
      "2200\n",
      "2300\n",
      "2400\n",
      "2500\n",
      "2600\n",
      "2700\n",
      "2800\n",
      "2900\n",
      "3000\n",
      "3100\n",
      "3200\n",
      "3300\n",
      "3400\n",
      "3500\n",
      "3600\n",
      "3700\n",
      "3800\n",
      "3900\n",
      "4000\n",
      "4100\n",
      "4200\n",
      "4300\n",
      "4400\n",
      "4500\n",
      "4600\n",
      "4700\n",
      "4800\n",
      "4900\n",
      "5000\n",
      "5100\n",
      "5200\n",
      "5300\n",
      "5400\n"
     ]
    }
   ],
   "source": [
    "t3 = time.time()\n",
    "cl_df = MLC.cup_predictions_outside_cardboard(video_filename, clfrs['cups'], \n",
    "                                              card_board_frames['smooth'],\n",
    "                                              verbose=True)"
   ]
  },
  {
   "cell_type": "markdown",
   "metadata": {},
   "source": [
    "Save cup locations if necessary"
   ]
  },
  {
   "cell_type": "code",
   "execution_count": 67,
   "metadata": {
    "collapsed": true
   },
   "outputs": [
    {
     "data": {
      "text/html": [
       "<div>\n",
       "<table border=\"1\" class=\"dataframe\">\n",
       "  <thead>\n",
       "    <tr style=\"text-align: right;\">\n",
       "      <th></th>\n",
       "      <th>Frame</th>\n",
       "      <th>cup x</th>\n",
       "      <th>cup y</th>\n",
       "    </tr>\n",
       "  </thead>\n",
       "  <tbody>\n",
       "    <tr>\n",
       "      <th>0</th>\n",
       "      <td>319</td>\n",
       "      <td>348.091476</td>\n",
       "      <td>32.639145</td>\n",
       "    </tr>\n",
       "    <tr>\n",
       "      <th>1</th>\n",
       "      <td>320</td>\n",
       "      <td>366.211352</td>\n",
       "      <td>30.548761</td>\n",
       "    </tr>\n",
       "    <tr>\n",
       "      <th>2</th>\n",
       "      <td>321</td>\n",
       "      <td>1251.866667</td>\n",
       "      <td>902.704762</td>\n",
       "    </tr>\n",
       "    <tr>\n",
       "      <th>3</th>\n",
       "      <td>322</td>\n",
       "      <td>1251.942584</td>\n",
       "      <td>902.832536</td>\n",
       "    </tr>\n",
       "    <tr>\n",
       "      <th>4</th>\n",
       "      <td>323</td>\n",
       "      <td>577.168188</td>\n",
       "      <td>927.327249</td>\n",
       "    </tr>\n",
       "    <tr>\n",
       "      <th>5</th>\n",
       "      <td>324</td>\n",
       "      <td>577.111402</td>\n",
       "      <td>927.554391</td>\n",
       "    </tr>\n",
       "    <tr>\n",
       "      <th>6</th>\n",
       "      <td>325</td>\n",
       "      <td>590.928650</td>\n",
       "      <td>838.950604</td>\n",
       "    </tr>\n",
       "    <tr>\n",
       "      <th>7</th>\n",
       "      <td>326</td>\n",
       "      <td>590.899563</td>\n",
       "      <td>839.087336</td>\n",
       "    </tr>\n",
       "    <tr>\n",
       "      <th>8</th>\n",
       "      <td>327</td>\n",
       "      <td>590.872688</td>\n",
       "      <td>838.937976</td>\n",
       "    </tr>\n",
       "    <tr>\n",
       "      <th>9</th>\n",
       "      <td>328</td>\n",
       "      <td>590.842676</td>\n",
       "      <td>685.099458</td>\n",
       "    </tr>\n",
       "    <tr>\n",
       "      <th>10</th>\n",
       "      <td>329</td>\n",
       "      <td>634.629898</td>\n",
       "      <td>722.972424</td>\n",
       "    </tr>\n",
       "    <tr>\n",
       "      <th>11</th>\n",
       "      <td>330</td>\n",
       "      <td>609.843169</td>\n",
       "      <td>648.265158</td>\n",
       "    </tr>\n",
       "    <tr>\n",
       "      <th>12</th>\n",
       "      <td>331</td>\n",
       "      <td>609.739693</td>\n",
       "      <td>648.255457</td>\n",
       "    </tr>\n",
       "    <tr>\n",
       "      <th>13</th>\n",
       "      <td>332</td>\n",
       "      <td>609.937046</td>\n",
       "      <td>648.313156</td>\n",
       "    </tr>\n",
       "    <tr>\n",
       "      <th>14</th>\n",
       "      <td>333</td>\n",
       "      <td>591.543139</td>\n",
       "      <td>603.506984</td>\n",
       "    </tr>\n",
       "    <tr>\n",
       "      <th>15</th>\n",
       "      <td>334</td>\n",
       "      <td>591.461854</td>\n",
       "      <td>603.274815</td>\n",
       "    </tr>\n",
       "    <tr>\n",
       "      <th>16</th>\n",
       "      <td>335</td>\n",
       "      <td>591.501639</td>\n",
       "      <td>603.655738</td>\n",
       "    </tr>\n",
       "    <tr>\n",
       "      <th>17</th>\n",
       "      <td>336</td>\n",
       "      <td>579.740800</td>\n",
       "      <td>578.688000</td>\n",
       "    </tr>\n",
       "    <tr>\n",
       "      <th>18</th>\n",
       "      <td>337</td>\n",
       "      <td>579.494400</td>\n",
       "      <td>578.944000</td>\n",
       "    </tr>\n",
       "    <tr>\n",
       "      <th>19</th>\n",
       "      <td>338</td>\n",
       "      <td>625.870206</td>\n",
       "      <td>569.616519</td>\n",
       "    </tr>\n",
       "    <tr>\n",
       "      <th>20</th>\n",
       "      <td>339</td>\n",
       "      <td>557.276471</td>\n",
       "      <td>606.564706</td>\n",
       "    </tr>\n",
       "    <tr>\n",
       "      <th>21</th>\n",
       "      <td>340</td>\n",
       "      <td>626.892489</td>\n",
       "      <td>569.372607</td>\n",
       "    </tr>\n",
       "    <tr>\n",
       "      <th>22</th>\n",
       "      <td>341</td>\n",
       "      <td>578.540146</td>\n",
       "      <td>617.494891</td>\n",
       "    </tr>\n",
       "    <tr>\n",
       "      <th>23</th>\n",
       "      <td>342</td>\n",
       "      <td>578.347445</td>\n",
       "      <td>618.283212</td>\n",
       "    </tr>\n",
       "    <tr>\n",
       "      <th>24</th>\n",
       "      <td>343</td>\n",
       "      <td>616.699538</td>\n",
       "      <td>599.429892</td>\n",
       "    </tr>\n",
       "    <tr>\n",
       "      <th>25</th>\n",
       "      <td>344</td>\n",
       "      <td>616.662048</td>\n",
       "      <td>599.384142</td>\n",
       "    </tr>\n",
       "    <tr>\n",
       "      <th>26</th>\n",
       "      <td>345</td>\n",
       "      <td>627.528003</td>\n",
       "      <td>715.432194</td>\n",
       "    </tr>\n",
       "    <tr>\n",
       "      <th>27</th>\n",
       "      <td>346</td>\n",
       "      <td>627.806838</td>\n",
       "      <td>714.997533</td>\n",
       "    </tr>\n",
       "    <tr>\n",
       "      <th>28</th>\n",
       "      <td>347</td>\n",
       "      <td>627.813757</td>\n",
       "      <td>715.339683</td>\n",
       "    </tr>\n",
       "    <tr>\n",
       "      <th>29</th>\n",
       "      <td>348</td>\n",
       "      <td>613.429980</td>\n",
       "      <td>655.027613</td>\n",
       "    </tr>\n",
       "    <tr>\n",
       "      <th>...</th>\n",
       "      <td>...</td>\n",
       "      <td>...</td>\n",
       "      <td>...</td>\n",
       "    </tr>\n",
       "    <tr>\n",
       "      <th>582</th>\n",
       "      <td>5393</td>\n",
       "      <td>979.755556</td>\n",
       "      <td>467.037037</td>\n",
       "    </tr>\n",
       "    <tr>\n",
       "      <th>583</th>\n",
       "      <td>5394</td>\n",
       "      <td>988.519588</td>\n",
       "      <td>504.177320</td>\n",
       "    </tr>\n",
       "    <tr>\n",
       "      <th>584</th>\n",
       "      <td>5395</td>\n",
       "      <td>988.388689</td>\n",
       "      <td>504.183033</td>\n",
       "    </tr>\n",
       "    <tr>\n",
       "      <th>585</th>\n",
       "      <td>5396</td>\n",
       "      <td>985.504253</td>\n",
       "      <td>497.630620</td>\n",
       "    </tr>\n",
       "    <tr>\n",
       "      <th>586</th>\n",
       "      <td>5397</td>\n",
       "      <td>985.597079</td>\n",
       "      <td>497.555691</td>\n",
       "    </tr>\n",
       "    <tr>\n",
       "      <th>587</th>\n",
       "      <td>5398</td>\n",
       "      <td>985.278250</td>\n",
       "      <td>497.885784</td>\n",
       "    </tr>\n",
       "    <tr>\n",
       "      <th>588</th>\n",
       "      <td>5399</td>\n",
       "      <td>970.537949</td>\n",
       "      <td>500.940080</td>\n",
       "    </tr>\n",
       "    <tr>\n",
       "      <th>589</th>\n",
       "      <td>5400</td>\n",
       "      <td>969.374752</td>\n",
       "      <td>501.747521</td>\n",
       "    </tr>\n",
       "    <tr>\n",
       "      <th>590</th>\n",
       "      <td>5401</td>\n",
       "      <td>961.867322</td>\n",
       "      <td>514.309582</td>\n",
       "    </tr>\n",
       "    <tr>\n",
       "      <th>591</th>\n",
       "      <td>5402</td>\n",
       "      <td>961.726901</td>\n",
       "      <td>514.204415</td>\n",
       "    </tr>\n",
       "    <tr>\n",
       "      <th>592</th>\n",
       "      <td>5403</td>\n",
       "      <td>962.013093</td>\n",
       "      <td>514.703764</td>\n",
       "    </tr>\n",
       "    <tr>\n",
       "      <th>593</th>\n",
       "      <td>5404</td>\n",
       "      <td>958.547914</td>\n",
       "      <td>557.745209</td>\n",
       "    </tr>\n",
       "    <tr>\n",
       "      <th>594</th>\n",
       "      <td>5405</td>\n",
       "      <td>958.536036</td>\n",
       "      <td>557.950450</td>\n",
       "    </tr>\n",
       "    <tr>\n",
       "      <th>595</th>\n",
       "      <td>5406</td>\n",
       "      <td>995.757647</td>\n",
       "      <td>581.642353</td>\n",
       "    </tr>\n",
       "    <tr>\n",
       "      <th>596</th>\n",
       "      <td>5407</td>\n",
       "      <td>995.508813</td>\n",
       "      <td>581.781434</td>\n",
       "    </tr>\n",
       "    <tr>\n",
       "      <th>597</th>\n",
       "      <td>5408</td>\n",
       "      <td>995.664713</td>\n",
       "      <td>581.788980</td>\n",
       "    </tr>\n",
       "    <tr>\n",
       "      <th>598</th>\n",
       "      <td>5409</td>\n",
       "      <td>1007.744862</td>\n",
       "      <td>596.711552</td>\n",
       "    </tr>\n",
       "    <tr>\n",
       "      <th>599</th>\n",
       "      <td>5410</td>\n",
       "      <td>1007.784091</td>\n",
       "      <td>596.718750</td>\n",
       "    </tr>\n",
       "    <tr>\n",
       "      <th>600</th>\n",
       "      <td>5411</td>\n",
       "      <td>1014.234409</td>\n",
       "      <td>667.744086</td>\n",
       "    </tr>\n",
       "    <tr>\n",
       "      <th>601</th>\n",
       "      <td>5412</td>\n",
       "      <td>1020.198565</td>\n",
       "      <td>657.909091</td>\n",
       "    </tr>\n",
       "    <tr>\n",
       "      <th>602</th>\n",
       "      <td>5413</td>\n",
       "      <td>1020.221957</td>\n",
       "      <td>657.861575</td>\n",
       "    </tr>\n",
       "    <tr>\n",
       "      <th>603</th>\n",
       "      <td>5414</td>\n",
       "      <td>1017.506881</td>\n",
       "      <td>688.857798</td>\n",
       "    </tr>\n",
       "    <tr>\n",
       "      <th>604</th>\n",
       "      <td>5415</td>\n",
       "      <td>998.833438</td>\n",
       "      <td>743.597737</td>\n",
       "    </tr>\n",
       "    <tr>\n",
       "      <th>605</th>\n",
       "      <td>5416</td>\n",
       "      <td>998.788184</td>\n",
       "      <td>743.389063</td>\n",
       "    </tr>\n",
       "    <tr>\n",
       "      <th>606</th>\n",
       "      <td>5417</td>\n",
       "      <td>999.554449</td>\n",
       "      <td>743.624144</td>\n",
       "    </tr>\n",
       "    <tr>\n",
       "      <th>607</th>\n",
       "      <td>5418</td>\n",
       "      <td>974.750897</td>\n",
       "      <td>798.458004</td>\n",
       "    </tr>\n",
       "    <tr>\n",
       "      <th>608</th>\n",
       "      <td>5419</td>\n",
       "      <td>974.981295</td>\n",
       "      <td>798.267626</td>\n",
       "    </tr>\n",
       "    <tr>\n",
       "      <th>609</th>\n",
       "      <td>5420</td>\n",
       "      <td>961.668763</td>\n",
       "      <td>859.401817</td>\n",
       "    </tr>\n",
       "    <tr>\n",
       "      <th>610</th>\n",
       "      <td>5421</td>\n",
       "      <td>957.283544</td>\n",
       "      <td>849.392405</td>\n",
       "    </tr>\n",
       "    <tr>\n",
       "      <th>611</th>\n",
       "      <td>5422</td>\n",
       "      <td>957.560176</td>\n",
       "      <td>848.882168</td>\n",
       "    </tr>\n",
       "  </tbody>\n",
       "</table>\n",
       "<p>612 rows × 3 columns</p>\n",
       "</div>"
      ],
      "text/plain": [
       "     Frame        cup x       cup y\n",
       "0      319   348.091476   32.639145\n",
       "1      320   366.211352   30.548761\n",
       "2      321  1251.866667  902.704762\n",
       "3      322  1251.942584  902.832536\n",
       "4      323   577.168188  927.327249\n",
       "5      324   577.111402  927.554391\n",
       "6      325   590.928650  838.950604\n",
       "7      326   590.899563  839.087336\n",
       "8      327   590.872688  838.937976\n",
       "9      328   590.842676  685.099458\n",
       "10     329   634.629898  722.972424\n",
       "11     330   609.843169  648.265158\n",
       "12     331   609.739693  648.255457\n",
       "13     332   609.937046  648.313156\n",
       "14     333   591.543139  603.506984\n",
       "15     334   591.461854  603.274815\n",
       "16     335   591.501639  603.655738\n",
       "17     336   579.740800  578.688000\n",
       "18     337   579.494400  578.944000\n",
       "19     338   625.870206  569.616519\n",
       "20     339   557.276471  606.564706\n",
       "21     340   626.892489  569.372607\n",
       "22     341   578.540146  617.494891\n",
       "23     342   578.347445  618.283212\n",
       "24     343   616.699538  599.429892\n",
       "25     344   616.662048  599.384142\n",
       "26     345   627.528003  715.432194\n",
       "27     346   627.806838  714.997533\n",
       "28     347   627.813757  715.339683\n",
       "29     348   613.429980  655.027613\n",
       "..     ...          ...         ...\n",
       "582   5393   979.755556  467.037037\n",
       "583   5394   988.519588  504.177320\n",
       "584   5395   988.388689  504.183033\n",
       "585   5396   985.504253  497.630620\n",
       "586   5397   985.597079  497.555691\n",
       "587   5398   985.278250  497.885784\n",
       "588   5399   970.537949  500.940080\n",
       "589   5400   969.374752  501.747521\n",
       "590   5401   961.867322  514.309582\n",
       "591   5402   961.726901  514.204415\n",
       "592   5403   962.013093  514.703764\n",
       "593   5404   958.547914  557.745209\n",
       "594   5405   958.536036  557.950450\n",
       "595   5406   995.757647  581.642353\n",
       "596   5407   995.508813  581.781434\n",
       "597   5408   995.664713  581.788980\n",
       "598   5409  1007.744862  596.711552\n",
       "599   5410  1007.784091  596.718750\n",
       "600   5411  1014.234409  667.744086\n",
       "601   5412  1020.198565  657.909091\n",
       "602   5413  1020.221957  657.861575\n",
       "603   5414  1017.506881  688.857798\n",
       "604   5415   998.833438  743.597737\n",
       "605   5416   998.788184  743.389063\n",
       "606   5417   999.554449  743.624144\n",
       "607   5418   974.750897  798.458004\n",
       "608   5419   974.981295  798.267626\n",
       "609   5420   961.668763  859.401817\n",
       "610   5421   957.283544  849.392405\n",
       "611   5422   957.560176  848.882168\n",
       "\n",
       "[612 rows x 3 columns]"
      ]
     },
     "execution_count": 67,
     "metadata": {},
     "output_type": "execute_result"
    }
   ],
   "source": [
    "cl_df.to_csv(os.path.join(out_folder, \"{}_cup_locs.csv\".format(i)))"
   ]
  },
  {
   "cell_type": "markdown",
   "metadata": {},
   "source": [
    "## plot cup locations and eyetracker locations into frames\n",
    "\n",
    "First load the eye-tracker data"
   ]
  },
  {
   "cell_type": "code",
   "execution_count": 6,
   "metadata": {
    "collapsed": true
   },
   "outputs": [],
   "source": [
    "et_filename = \"/Volumes/Seagate Backup Plus Drive/datasets/cups/events/CORIA/SWTS2 20150312 CORIA_table (17)_023_Trial001 Samples.txt\"\n",
    "et_df = RD.load_eye_tracker_data(et_filename)"
   ]
  },
  {
   "cell_type": "markdown",
   "metadata": {},
   "source": [
    "call the plotting function with eye-tracker data and cup-locations"
   ]
  },
  {
   "cell_type": "code",
   "execution_count": 7,
   "metadata": {
    "collapsed": true
   },
   "outputs": [],
   "source": [
    "t4 = time.time()\n",
    "out_folder = \"/Volumes/Seagate Backup Plus Drive/datasets/cups/script_output/frames_out_pipeline_test2\"\n",
    "RD.tracking_on_video(video_filename, et_df, cl_df, out_folder)"
   ]
  },
  {
   "cell_type": "code",
   "execution_count": 8,
   "metadata": {
    "collapsed": true
   },
   "outputs": [],
   "source": [
    "t5 = time.time()"
   ]
  },
  {
   "cell_type": "markdown",
   "metadata": {},
   "source": [
    "## Approximate timings for a 3:48min video"
   ]
  },
  {
   "cell_type": "markdown",
   "metadata": {},
   "source": [
    "It takes about \n",
    "\n",
    "* 1h7min to detect card-board frames\n",
    "* 13min to get cup locations\n",
    "* 1h17min to plot the result on video frames"
   ]
  },
  {
   "cell_type": "code",
   "execution_count": 12,
   "metadata": {
    "collapsed": false
   },
   "outputs": [
    {
     "name": "stdout",
     "output_type": "stream",
     "text": [
      "0.0242632667224 67.9051557819 13.1711765687 107.239526383\n"
     ]
    }
   ],
   "source": [
    "print \"{} {} {} {}\".format((t2 - t1) / 60, (t3 - t2) / 60, (t4 - t3) / 60, (t5- t4) / 60)"
   ]
  },
  {
   "cell_type": "markdown",
   "metadata": {},
   "source": [
    "## convert frames into video"
   ]
  },
  {
   "cell_type": "code",
   "execution_count": 12,
   "metadata": {
    "collapsed": false
   },
   "outputs": [
    {
     "data": {
      "text/plain": [
       "1"
      ]
     },
     "execution_count": 12,
     "metadata": {},
     "output_type": "execute_result"
    }
   ],
   "source": [
    "from subprocess import call\n",
    "call([\"ffmpeg\", \"-r 24\", \"-i {}/frame_%04d.png\".format(out_folder),\n",
    "      \"-r 24\", \"-pix_fmt yuv420p\", \"{}/video.mp4\".format(out_folder)], shell=True)"
   ]
  },
  {
   "cell_type": "code",
   "execution_count": 10,
   "metadata": {
    "collapsed": false
   },
   "outputs": [
    {
     "data": {
      "text/plain": [
       "0"
      ]
     },
     "execution_count": 10,
     "metadata": {},
     "output_type": "execute_result"
    }
   ],
   "source": [
    "call([\"ls\", \"-l\"])"
   ]
  },
  {
   "cell_type": "code",
   "execution_count": 11,
   "metadata": {
    "collapsed": false
   },
   "outputs": [
    {
     "data": {
      "text/plain": [
       "1"
      ]
     },
     "execution_count": 11,
     "metadata": {},
     "output_type": "execute_result"
    }
   ],
   "source": [
    "call([\"ffmpeg\"])"
   ]
  },
  {
   "cell_type": "code",
   "execution_count": 13,
   "metadata": {
    "collapsed": false
   },
   "outputs": [
    {
     "data": {
      "text/plain": [
       "256"
      ]
     },
     "execution_count": 13,
     "metadata": {},
     "output_type": "execute_result"
    }
   ],
   "source": [
    "import os\n",
    "os.system(\"ffmpeg -r 24 -i {bf}/frame_%04d.png -r 24 -pix_fmt yuv420p {bf}/video.mp4\".format(bf=out_folder))"
   ]
  },
  {
   "cell_type": "code",
   "execution_count": null,
   "metadata": {
    "collapsed": true
   },
   "outputs": [],
   "source": []
  }
 ],
 "metadata": {
  "kernelspec": {
   "display_name": "Python 2",
   "language": "python",
   "name": "python2"
  },
  "language_info": {
   "codemirror_mode": {
    "name": "ipython",
    "version": 2
   },
   "file_extension": ".py",
   "mimetype": "text/x-python",
   "name": "python",
   "nbconvert_exporter": "python",
   "pygments_lexer": "ipython2",
   "version": "2.7.11"
  }
 },
 "nbformat": 4,
 "nbformat_minor": 0
}
